{
 "cells": [
  {
   "cell_type": "markdown",
   "id": "784b34f1-cd7a-4d5a-b081-6a54febdca4a",
   "metadata": {},
   "source": [
    "### 학습목표\n",
    "- 버섯의 특징을 활용해 독 / 식용 버섯을 분류하는 실습을 해보자\n",
    "- DecisionTree 분류모델을 학습하고 시각화 & 과대적합 제어\n",
    "- 모델 자체적으로 중요도가 높은 특성이 무엇인지 확인해보자"
   ]
  },
  {
   "cell_type": "markdown",
   "id": "93b0cd90-2335-4ad2-9b7c-6939727173b7",
   "metadata": {},
   "source": [
    "### Desicion Tree(결정트리, 의사결정 나무)\n",
    "- 스무고개 하듯이 True/False 질문을 반복하며 학습\n",
    "- 특정 기준(질문, node)에 따라 데이터를 구분하는 모델\n",
    "- 분류나 회귀 모두 사용 가능"
   ]
  },
  {
   "cell_type": "code",
   "execution_count": null,
   "id": "38a0e1a8-75c9-4877-a8fa-e29ba165ce2e",
   "metadata": {},
   "outputs": [],
   "source": [
    "# 라이브러리 호출\n",
    "import numpy as np\n",
    "import pandas as pd\n",
    "import matplotlib.pyplot as plt\n",
    "\n",
    "# 머신러닝 패키지 호출 --> sklearn\n",
    "from sklearn.model_selection import train_test_split\n",
    "from sklearn.tree import DecisionTreeClassifier # 트리 분류 모델\n"
   ]
  }
 ],
 "metadata": {
  "kernelspec": {
   "display_name": "Python [conda env:base] *",
   "language": "python",
   "name": "conda-base-py"
  },
  "language_info": {
   "codemirror_mode": {
    "name": "ipython",
    "version": 3
   },
   "file_extension": ".py",
   "mimetype": "text/x-python",
   "name": "python",
   "nbconvert_exporter": "python",
   "pygments_lexer": "ipython3",
   "version": "3.12.7"
  }
 },
 "nbformat": 4,
 "nbformat_minor": 5
}
