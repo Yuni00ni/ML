{
 "cells": [
  {
   "cell_type": "markdown",
   "id": "6553aa80",
   "metadata": {},
   "source": [
    "### 1. 문제정의\n",
    "- 손글씨(0 ~ 9)를 분류하는 모델을 만들어보자.\n",
    "- 이미지 데이터의 형태를 이해해보자."
   ]
  },
  {
   "cell_type": "code",
   "execution_count": null,
   "id": "13c13a62",
   "metadata": {},
   "outputs": [],
   "source": []
  }
 ],
 "metadata": {
  "kernelspec": {
   "display_name": "base",
   "language": "python",
   "name": "python3"
  },
  "language_info": {
   "codemirror_mode": {
    "name": "ipython",
    "version": 3
   },
   "file_extension": ".py",
   "mimetype": "text/x-python",
   "name": "python",
   "nbconvert_exporter": "python",
   "pygments_lexer": "ipython3",
   "version": "3.12.7"
  }
 },
 "nbformat": 4,
 "nbformat_minor": 5
}
