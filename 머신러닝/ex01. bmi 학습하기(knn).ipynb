{
 "cells": [
  {
   "cell_type": "markdown",
   "id": "a681c737-55db-4b09-a4ef-5ba0990cbfe9",
   "metadata": {},
   "source": [
    "### 학습목표\n",
    "- bmi 데이터를 사용하여 머신러닝의 전체과정을 이해해보자\n",
    "- knn 분류 모델을 사용해보자\n",
    "- 하이퍼파라미터를 조정해보자"
   ]
  },
  {
   "cell_type": "markdown",
   "id": "60e491c3-acfa-43e0-a81b-ec302dfd491b",
   "metadata": {},
   "source": [
    "### 머신러닝 종류\n",
    "1. 지도학습\n",
    "   - 문제와 답이 주어진 상태에서 학습\n",
    "   - 분류, 회귀\n",
    "       - 분류 : 정답 데이터의 형태가 범주형 데이터일 때\n",
    "       - 회귀 : 정답 데이터의 형태가 연속형 데이터일 때\n",
    "\n",
    "2. 비지도학습\n",
    "    - 문제에 대해서만 주어신 상태에서 학습(답을 알려주지 않는다)\n",
    "    - 데이터의 숨겨진 특성, 구조, 패턴을 파악 -> 클러스터링(군집화)\n",
    "\n",
    "3. 강화학습\n",
    "    - 완전한 답을 제공하지 않음\n",
    "    - 더 큰 보상을 얻을 수 있는 방향으로 학습을 진행\n",
    "    - ex) 알파고"
   ]
  },
  {
   "cell_type": "markdown",
   "id": "d5bd0c69-f54d-422a-8a2a-2d91d4c79ec9",
   "metadata": {},
   "source": [
    "### 머신러닝 단계\n",
    "1. 문제 정의 : 지도 vs 비지도, 필요한 데이터 정의, 분류 vs 회귀\n",
    "2. 데이터 수집 : 크롤링, db, 공공데이터포털, 설문조사\n",
    "3. 데이터 전처리 : numpy, pandas 활용\n",
    "4. 탐색적 데이터 분석(EDA)\n",
    "    - 특성 의미 파악(기술통계 : 평균, 최소, 최대, 중앙값, 최빈, 표준편차...)\n",
    "    - 특성간의 상관관계\n",
    "    - 그래프를 출력해서 의미 파악 : numpy, pandas, matplotlib\n",
    "5. 모델 선택, 하이퍼파라미너(사람 지정 매개변수) 조정\n",
    "6. 모델 학습\n",
    "7. 모델 평가 및 예측"
   ]
  },
  {
   "cell_type": "markdown",
   "id": "5018237f-04a4-431f-81ca-9cc99a10cd09",
   "metadata": {},
   "source": [
    "### 1. 문제 정의\n",
    "- 500명의 키, 몸무게 데이터를 통해서 비만도를 판별하는 모델 생성\n",
    "- 분류 모델활용 -> 6가지의 class로 분류하는 판별기를 만들어보자!"
   ]
  },
  {
   "cell_type": "code",
   "execution_count": 2,
   "id": "22b9e6c8-f7d7-4de3-bc93-2a9b8d3aa697",
   "metadata": {},
   "outputs": [],
   "source": [
    "# 필요한 도구 불러오기\n",
    "import numpy as np\n",
    "import pandas as pd\n",
    "import matplotlib.pyplot as plt"
   ]
  },
  {
   "cell_type": "markdown",
   "id": "fa116801-3e09-46f3-9f2b-367ce5e83a7f",
   "metadata": {},
   "source": [
    "### 2. 데이터 수집\n",
    "- csv 파일 불러오기"
   ]
  },
  {
   "cell_type": "code",
   "execution_count": 3,
   "id": "d58f4e1e-f072-46d2-976a-b324118f00e8",
   "metadata": {},
   "outputs": [
    {
     "data": {
      "text/html": [
       "<div>\n",
       "<style scoped>\n",
       "    .dataframe tbody tr th:only-of-type {\n",
       "        vertical-align: middle;\n",
       "    }\n",
       "\n",
       "    .dataframe tbody tr th {\n",
       "        vertical-align: top;\n",
       "    }\n",
       "\n",
       "    .dataframe thead th {\n",
       "        text-align: right;\n",
       "    }\n",
       "</style>\n",
       "<table border=\"1\" class=\"dataframe\">\n",
       "  <thead>\n",
       "    <tr style=\"text-align: right;\">\n",
       "      <th></th>\n",
       "      <th>Gender</th>\n",
       "      <th>Height</th>\n",
       "      <th>Weight</th>\n",
       "      <th>Label</th>\n",
       "    </tr>\n",
       "  </thead>\n",
       "  <tbody>\n",
       "    <tr>\n",
       "      <th>0</th>\n",
       "      <td>Male</td>\n",
       "      <td>174</td>\n",
       "      <td>96</td>\n",
       "      <td>Obesity</td>\n",
       "    </tr>\n",
       "    <tr>\n",
       "      <th>1</th>\n",
       "      <td>Male</td>\n",
       "      <td>189</td>\n",
       "      <td>87</td>\n",
       "      <td>Normal</td>\n",
       "    </tr>\n",
       "    <tr>\n",
       "      <th>2</th>\n",
       "      <td>Female</td>\n",
       "      <td>185</td>\n",
       "      <td>110</td>\n",
       "      <td>Obesity</td>\n",
       "    </tr>\n",
       "    <tr>\n",
       "      <th>3</th>\n",
       "      <td>Female</td>\n",
       "      <td>195</td>\n",
       "      <td>104</td>\n",
       "      <td>Overweight</td>\n",
       "    </tr>\n",
       "    <tr>\n",
       "      <th>4</th>\n",
       "      <td>Male</td>\n",
       "      <td>149</td>\n",
       "      <td>61</td>\n",
       "      <td>Overweight</td>\n",
       "    </tr>\n",
       "    <tr>\n",
       "      <th>...</th>\n",
       "      <td>...</td>\n",
       "      <td>...</td>\n",
       "      <td>...</td>\n",
       "      <td>...</td>\n",
       "    </tr>\n",
       "    <tr>\n",
       "      <th>495</th>\n",
       "      <td>Female</td>\n",
       "      <td>150</td>\n",
       "      <td>153</td>\n",
       "      <td>Extreme Obesity</td>\n",
       "    </tr>\n",
       "    <tr>\n",
       "      <th>496</th>\n",
       "      <td>Female</td>\n",
       "      <td>184</td>\n",
       "      <td>121</td>\n",
       "      <td>Obesity</td>\n",
       "    </tr>\n",
       "    <tr>\n",
       "      <th>497</th>\n",
       "      <td>Female</td>\n",
       "      <td>141</td>\n",
       "      <td>136</td>\n",
       "      <td>Extreme Obesity</td>\n",
       "    </tr>\n",
       "    <tr>\n",
       "      <th>498</th>\n",
       "      <td>Male</td>\n",
       "      <td>150</td>\n",
       "      <td>95</td>\n",
       "      <td>Extreme Obesity</td>\n",
       "    </tr>\n",
       "    <tr>\n",
       "      <th>499</th>\n",
       "      <td>Male</td>\n",
       "      <td>173</td>\n",
       "      <td>131</td>\n",
       "      <td>Extreme Obesity</td>\n",
       "    </tr>\n",
       "  </tbody>\n",
       "</table>\n",
       "<p>500 rows × 4 columns</p>\n",
       "</div>"
      ],
      "text/plain": [
       "     Gender  Height  Weight            Label\n",
       "0      Male     174      96          Obesity\n",
       "1      Male     189      87           Normal\n",
       "2    Female     185     110          Obesity\n",
       "3    Female     195     104       Overweight\n",
       "4      Male     149      61       Overweight\n",
       "..      ...     ...     ...              ...\n",
       "495  Female     150     153  Extreme Obesity\n",
       "496  Female     184     121          Obesity\n",
       "497  Female     141     136  Extreme Obesity\n",
       "498    Male     150      95  Extreme Obesity\n",
       "499    Male     173     131  Extreme Obesity\n",
       "\n",
       "[500 rows x 4 columns]"
      ]
     },
     "execution_count": 3,
     "metadata": {},
     "output_type": "execute_result"
    }
   ],
   "source": [
    "data = pd.read_csv('./data/bmi_500.csv')\n",
    "data"
   ]
  },
  {
   "cell_type": "markdown",
   "id": "0b1ce6b9-5d99-4c80-9927-6e3acc34cbc3",
   "metadata": {},
   "source": [
    "### 3. 데이터 전처리\n",
    "- 결측치 대체 or 제거\n",
    "- 이상치 대체 or 제거\n",
    "- 데이터 split(train set과 test set을 분리)"
   ]
  },
  {
   "cell_type": "code",
   "execution_count": 4,
   "id": "c2eb19a5-7203-4477-b8b3-b492aedcdf74",
   "metadata": {},
   "outputs": [
    {
     "data": {
      "text/html": [
       "<div>\n",
       "<style scoped>\n",
       "    .dataframe tbody tr th:only-of-type {\n",
       "        vertical-align: middle;\n",
       "    }\n",
       "\n",
       "    .dataframe tbody tr th {\n",
       "        vertical-align: top;\n",
       "    }\n",
       "\n",
       "    .dataframe thead th {\n",
       "        text-align: right;\n",
       "    }\n",
       "</style>\n",
       "<table border=\"1\" class=\"dataframe\">\n",
       "  <thead>\n",
       "    <tr style=\"text-align: right;\">\n",
       "      <th></th>\n",
       "      <th>Gender</th>\n",
       "      <th>Height</th>\n",
       "      <th>Weight</th>\n",
       "      <th>Label</th>\n",
       "    </tr>\n",
       "  </thead>\n",
       "  <tbody>\n",
       "    <tr>\n",
       "      <th>0</th>\n",
       "      <td>Male</td>\n",
       "      <td>174</td>\n",
       "      <td>96</td>\n",
       "      <td>Obesity</td>\n",
       "    </tr>\n",
       "    <tr>\n",
       "      <th>1</th>\n",
       "      <td>Male</td>\n",
       "      <td>189</td>\n",
       "      <td>87</td>\n",
       "      <td>Normal</td>\n",
       "    </tr>\n",
       "    <tr>\n",
       "      <th>2</th>\n",
       "      <td>Female</td>\n",
       "      <td>185</td>\n",
       "      <td>110</td>\n",
       "      <td>Obesity</td>\n",
       "    </tr>\n",
       "    <tr>\n",
       "      <th>3</th>\n",
       "      <td>Female</td>\n",
       "      <td>195</td>\n",
       "      <td>104</td>\n",
       "      <td>Overweight</td>\n",
       "    </tr>\n",
       "    <tr>\n",
       "      <th>4</th>\n",
       "      <td>Male</td>\n",
       "      <td>149</td>\n",
       "      <td>61</td>\n",
       "      <td>Overweight</td>\n",
       "    </tr>\n",
       "  </tbody>\n",
       "</table>\n",
       "</div>"
      ],
      "text/plain": [
       "   Gender  Height  Weight       Label\n",
       "0    Male     174      96     Obesity\n",
       "1    Male     189      87      Normal\n",
       "2  Female     185     110     Obesity\n",
       "3  Female     195     104  Overweight\n",
       "4    Male     149      61  Overweight"
      ]
     },
     "execution_count": 4,
     "metadata": {},
     "output_type": "execute_result"
    }
   ],
   "source": [
    "# 위에서부터 5개 행만 출력\n",
    "data.head()"
   ]
  },
  {
   "cell_type": "code",
   "execution_count": 5,
   "id": "86ad84c9-2d78-438b-9f30-1bacb1e6beaf",
   "metadata": {},
   "outputs": [
    {
     "data": {
      "text/html": [
       "<div>\n",
       "<style scoped>\n",
       "    .dataframe tbody tr th:only-of-type {\n",
       "        vertical-align: middle;\n",
       "    }\n",
       "\n",
       "    .dataframe tbody tr th {\n",
       "        vertical-align: top;\n",
       "    }\n",
       "\n",
       "    .dataframe thead th {\n",
       "        text-align: right;\n",
       "    }\n",
       "</style>\n",
       "<table border=\"1\" class=\"dataframe\">\n",
       "  <thead>\n",
       "    <tr style=\"text-align: right;\">\n",
       "      <th></th>\n",
       "      <th>Gender</th>\n",
       "      <th>Height</th>\n",
       "      <th>Weight</th>\n",
       "      <th>Label</th>\n",
       "    </tr>\n",
       "  </thead>\n",
       "  <tbody>\n",
       "    <tr>\n",
       "      <th>495</th>\n",
       "      <td>Female</td>\n",
       "      <td>150</td>\n",
       "      <td>153</td>\n",
       "      <td>Extreme Obesity</td>\n",
       "    </tr>\n",
       "    <tr>\n",
       "      <th>496</th>\n",
       "      <td>Female</td>\n",
       "      <td>184</td>\n",
       "      <td>121</td>\n",
       "      <td>Obesity</td>\n",
       "    </tr>\n",
       "    <tr>\n",
       "      <th>497</th>\n",
       "      <td>Female</td>\n",
       "      <td>141</td>\n",
       "      <td>136</td>\n",
       "      <td>Extreme Obesity</td>\n",
       "    </tr>\n",
       "    <tr>\n",
       "      <th>498</th>\n",
       "      <td>Male</td>\n",
       "      <td>150</td>\n",
       "      <td>95</td>\n",
       "      <td>Extreme Obesity</td>\n",
       "    </tr>\n",
       "    <tr>\n",
       "      <th>499</th>\n",
       "      <td>Male</td>\n",
       "      <td>173</td>\n",
       "      <td>131</td>\n",
       "      <td>Extreme Obesity</td>\n",
       "    </tr>\n",
       "  </tbody>\n",
       "</table>\n",
       "</div>"
      ],
      "text/plain": [
       "     Gender  Height  Weight            Label\n",
       "495  Female     150     153  Extreme Obesity\n",
       "496  Female     184     121          Obesity\n",
       "497  Female     141     136  Extreme Obesity\n",
       "498    Male     150      95  Extreme Obesity\n",
       "499    Male     173     131  Extreme Obesity"
      ]
     },
     "execution_count": 5,
     "metadata": {},
     "output_type": "execute_result"
    }
   ],
   "source": [
    "# 아래부터 5개 행만 출력\n",
    "data.tail()"
   ]
  },
  {
   "cell_type": "code",
   "execution_count": 6,
   "id": "c6c5db78-7c3e-482e-b687-496f76a94f8e",
   "metadata": {},
   "outputs": [
    {
     "data": {
      "text/plain": [
       "(500, 4)"
      ]
     },
     "execution_count": 6,
     "metadata": {},
     "output_type": "execute_result"
    }
   ],
   "source": [
    "# 데이터 크기 정보 확인\n",
    "data.shape"
   ]
  },
  {
   "cell_type": "code",
   "execution_count": 7,
   "id": "cf52ddf0-cdc9-42de-82ad-0d481d9e1fb3",
   "metadata": {},
   "outputs": [
    {
     "data": {
      "text/plain": [
       "2"
      ]
     },
     "execution_count": 7,
     "metadata": {},
     "output_type": "execute_result"
    }
   ],
   "source": [
    "# 데이터 차원 확인\n",
    "data.ndim"
   ]
  },
  {
   "cell_type": "code",
   "execution_count": 8,
   "id": "4bb5beca-fe9a-47b5-8b11-02428fb7a469",
   "metadata": {},
   "outputs": [
    {
     "name": "stdout",
     "output_type": "stream",
     "text": [
      "<class 'pandas.core.frame.DataFrame'>\n",
      "RangeIndex: 500 entries, 0 to 499\n",
      "Data columns (total 4 columns):\n",
      " #   Column  Non-Null Count  Dtype \n",
      "---  ------  --------------  ----- \n",
      " 0   Gender  500 non-null    object\n",
      " 1   Height  500 non-null    int64 \n",
      " 2   Weight  500 non-null    int64 \n",
      " 3   Label   500 non-null    object\n",
      "dtypes: int64(2), object(2)\n",
      "memory usage: 15.8+ KB\n"
     ]
    }
   ],
   "source": [
    "# 데이터 정보 확인\n",
    "# 컬럼명, 컬럼개수, 행 개수, 결측치여부, 데이터 타입\n",
    "data.info()"
   ]
  },
  {
   "cell_type": "markdown",
   "id": "22ae6b27-aa59-49f9-88f2-14fe8aad549d",
   "metadata": {},
   "source": [
    "### 4. EDA(탐색적 데이터 분석)\n",
    "- 데이터의 특성 확인, 파악\n",
    "- 기술통계량(요약본), 데이터의 분포 파악, 시각화"
   ]
  },
  {
   "cell_type": "code",
   "execution_count": 11,
   "id": "7a774b67-3a60-40d1-ba40-e8f8eab1e534",
   "metadata": {},
   "outputs": [
    {
     "data": {
      "text/html": [
       "<div>\n",
       "<style scoped>\n",
       "    .dataframe tbody tr th:only-of-type {\n",
       "        vertical-align: middle;\n",
       "    }\n",
       "\n",
       "    .dataframe tbody tr th {\n",
       "        vertical-align: top;\n",
       "    }\n",
       "\n",
       "    .dataframe thead th {\n",
       "        text-align: right;\n",
       "    }\n",
       "</style>\n",
       "<table border=\"1\" class=\"dataframe\">\n",
       "  <thead>\n",
       "    <tr style=\"text-align: right;\">\n",
       "      <th></th>\n",
       "      <th>Height</th>\n",
       "      <th>Weight</th>\n",
       "    </tr>\n",
       "  </thead>\n",
       "  <tbody>\n",
       "    <tr>\n",
       "      <th>count</th>\n",
       "      <td>500.000000</td>\n",
       "      <td>500.000000</td>\n",
       "    </tr>\n",
       "    <tr>\n",
       "      <th>mean</th>\n",
       "      <td>169.944000</td>\n",
       "      <td>106.000000</td>\n",
       "    </tr>\n",
       "    <tr>\n",
       "      <th>std</th>\n",
       "      <td>16.375261</td>\n",
       "      <td>32.382607</td>\n",
       "    </tr>\n",
       "    <tr>\n",
       "      <th>min</th>\n",
       "      <td>140.000000</td>\n",
       "      <td>50.000000</td>\n",
       "    </tr>\n",
       "    <tr>\n",
       "      <th>25%</th>\n",
       "      <td>156.000000</td>\n",
       "      <td>80.000000</td>\n",
       "    </tr>\n",
       "    <tr>\n",
       "      <th>50%</th>\n",
       "      <td>170.500000</td>\n",
       "      <td>106.000000</td>\n",
       "    </tr>\n",
       "    <tr>\n",
       "      <th>75%</th>\n",
       "      <td>184.000000</td>\n",
       "      <td>136.000000</td>\n",
       "    </tr>\n",
       "    <tr>\n",
       "      <th>max</th>\n",
       "      <td>199.000000</td>\n",
       "      <td>160.000000</td>\n",
       "    </tr>\n",
       "  </tbody>\n",
       "</table>\n",
       "</div>"
      ],
      "text/plain": [
       "           Height      Weight\n",
       "count  500.000000  500.000000\n",
       "mean   169.944000  106.000000\n",
       "std     16.375261   32.382607\n",
       "min    140.000000   50.000000\n",
       "25%    156.000000   80.000000\n",
       "50%    170.500000  106.000000\n",
       "75%    184.000000  136.000000\n",
       "max    199.000000  160.000000"
      ]
     },
     "execution_count": 11,
     "metadata": {},
     "output_type": "execute_result"
    }
   ],
   "source": [
    "# 기술통계량(요약본) 확인\n",
    "# df.describe()\n",
    "# 수치명 테이터에 대해 요약본 확인\n",
    "data.describe()"
   ]
  },
  {
   "cell_type": "code",
   "execution_count": 12,
   "id": "7339f4c2-624f-48e5-8743-07b9f10b1181",
   "metadata": {},
   "outputs": [
    {
     "data": {
      "text/html": [
       "<div>\n",
       "<style scoped>\n",
       "    .dataframe tbody tr th:only-of-type {\n",
       "        vertical-align: middle;\n",
       "    }\n",
       "\n",
       "    .dataframe tbody tr th {\n",
       "        vertical-align: top;\n",
       "    }\n",
       "\n",
       "    .dataframe thead th {\n",
       "        text-align: right;\n",
       "    }\n",
       "</style>\n",
       "<table border=\"1\" class=\"dataframe\">\n",
       "  <thead>\n",
       "    <tr style=\"text-align: right;\">\n",
       "      <th></th>\n",
       "      <th>Gender</th>\n",
       "      <th>Label</th>\n",
       "    </tr>\n",
       "  </thead>\n",
       "  <tbody>\n",
       "    <tr>\n",
       "      <th>count</th>\n",
       "      <td>500</td>\n",
       "      <td>500</td>\n",
       "    </tr>\n",
       "    <tr>\n",
       "      <th>unique</th>\n",
       "      <td>2</td>\n",
       "      <td>6</td>\n",
       "    </tr>\n",
       "    <tr>\n",
       "      <th>top</th>\n",
       "      <td>Female</td>\n",
       "      <td>Extreme Obesity</td>\n",
       "    </tr>\n",
       "    <tr>\n",
       "      <th>freq</th>\n",
       "      <td>255</td>\n",
       "      <td>198</td>\n",
       "    </tr>\n",
       "  </tbody>\n",
       "</table>\n",
       "</div>"
      ],
      "text/plain": [
       "        Gender            Label\n",
       "count      500              500\n",
       "unique       2                6\n",
       "top     Female  Extreme Obesity\n",
       "freq       255              198"
      ]
     },
     "execution_count": 12,
     "metadata": {},
     "output_type": "execute_result"
    }
   ],
   "source": [
    "# object형에 대해 기술통계량 확인\n",
    "data.describe(include = 'object')"
   ]
  },
  {
   "cell_type": "code",
   "execution_count": 17,
   "id": "41824848-2580-4967-bfcc-dbd40dd8f202",
   "metadata": {},
   "outputs": [
    {
     "data": {
      "text/plain": [
       "array(['Obesity', 'Normal', 'Overweight', 'Extreme Obesity', 'Weak',\n",
       "       'Extremely Weak'], dtype=object)"
      ]
     },
     "execution_count": 17,
     "metadata": {},
     "output_type": "execute_result"
    }
   ],
   "source": [
    "# 정답 데이터 확인하기(label)\n",
    "data['Label'].unique()\n",
    "\n",
    "# Extremely Weak : 심한 저체중\n",
    "# Weak : 저체중\n",
    "# Normal : 정상체중\n",
    "# Overweight : 과체중\n",
    "# Obesity : 비만\n",
    "# Extreme Obesity : 고도비만"
   ]
  },
  {
   "cell_type": "code",
   "execution_count": 30,
   "id": "5aa7d6a7-a917-4dc0-9969-70fa941d9d9a",
   "metadata": {},
   "outputs": [
    {
     "data": {
      "text/plain": [
       "0              Obesity\n",
       "1               Normal\n",
       "2              Obesity\n",
       "3           Overweight\n",
       "4           Overweight\n",
       "            ...       \n",
       "495    Extreme Obesity\n",
       "496            Obesity\n",
       "497    Extreme Obesity\n",
       "498    Extreme Obesity\n",
       "499    Extreme Obesity\n",
       "Name: Label, Length: 500, dtype: object"
      ]
     },
     "execution_count": 30,
     "metadata": {},
     "output_type": "execute_result"
    }
   ],
   "source": [
    "# 데이터 분리\n",
    "# 1) 문제 데이터(X)\n",
    "X = data[['Height', 'Weight']] # X(문제) 키, 몸무게 --> 2차원\n",
    "X\n",
    "\n",
    "# 2) 정답 데이터(y)\n",
    "y = data['Label'] # y(정답)\n",
    "y"
   ]
  },
  {
   "cell_type": "code",
   "execution_count": 33,
   "id": "f4247786-768d-4fe6-b640-9072df0782fd",
   "metadata": {},
   "outputs": [
    {
     "name": "stdout",
     "output_type": "stream",
     "text": [
      "문제 데이터 :  (500, 2)\n",
      "정답 데이터 :  (500,)\n"
     ]
    }
   ],
   "source": [
    "# 데이터 크기 확인\n",
    "print('문제 데이터 : ', X.shape)\n",
    "print('정답 데이터 : ', y.shape)"
   ]
  },
  {
   "cell_type": "code",
   "execution_count": 44,
   "id": "d107fa0f-d2ae-4f74-b820-66774a3a45c5",
   "metadata": {},
   "outputs": [
    {
     "name": "stdout",
     "output_type": "stream",
     "text": [
      "0              Obesity\n",
      "1               Normal\n",
      "2              Obesity\n",
      "3           Overweight\n",
      "4           Overweight\n",
      "            ...       \n",
      "345            Obesity\n",
      "346             Normal\n",
      "347             Normal\n",
      "348    Extreme Obesity\n",
      "349             Normal\n",
      "Name: Label, Length: 350, dtype: object\n",
      "350             Normal\n",
      "351             Normal\n",
      "352             Normal\n",
      "353    Extreme Obesity\n",
      "354     Extremely Weak\n",
      "            ...       \n",
      "495    Extreme Obesity\n",
      "496            Obesity\n",
      "497    Extreme Obesity\n",
      "498    Extreme Obesity\n",
      "499    Extreme Obesity\n",
      "Name: Label, Length: 150, dtype: object\n"
     ]
    }
   ],
   "source": [
    "# 훈련세트(train set) 테스트 세트(test set)로 행분리\n",
    "# 한정적인 데이터 내에서 학습 + 평가까지 해야되기 때문에\n",
    "# 훈련(train) : 70% - 학습(훈련)을 위한 용도\n",
    "# 테스트(test) : 30% - 학습이 잘 됐는지 확인(테스트)하기 위한 용도\n",
    "\n",
    "# 총 500개 데이터(0 ~ 499)\n",
    "# 350개(0 ~ 349) : train\n",
    "# 150개(350 ~ 499) : test\n",
    "\n",
    "# X(문제 데이터) - train(70%), test(30%)\n",
    "# y(답 데이터) - train(70%), test(30%)\n",
    "\n",
    "# iloc 행분리\n",
    "X_train = X.iloc[0 : 350 , : ]\n",
    "X_test = X.iloc[350 : , : ]\n",
    "\n",
    "\n",
    "y_train = y.iloc[0 : 350]\n",
    "y_test = y.iloc[350 : ]\n",
    "\n",
    "# print(X_train)\n",
    "# print(X_test)\n",
    "print(y_train)\n",
    "print(y_test)"
   ]
  }
 ],
 "metadata": {
  "kernelspec": {
   "display_name": "Python [conda env:base] *",
   "language": "python",
   "name": "conda-base-py"
  },
  "language_info": {
   "codemirror_mode": {
    "name": "ipython",
    "version": 3
   },
   "file_extension": ".py",
   "mimetype": "text/x-python",
   "name": "python",
   "nbconvert_exporter": "python",
   "pygments_lexer": "ipython3",
   "version": "3.12.7"
  }
 },
 "nbformat": 4,
 "nbformat_minor": 5
}
