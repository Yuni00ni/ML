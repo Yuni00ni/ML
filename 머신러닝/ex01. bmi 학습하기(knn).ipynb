{
 "cells": [
  {
   "cell_type": "markdown",
   "id": "a681c737-55db-4b09-a4ef-5ba0990cbfe9",
   "metadata": {},
   "source": [
    "### 학습목표\n",
    "- bmi 데이터를 사용하여 머신러닝의 전체과정을 이해해보자\n",
    "- knn 분류 모델을 사용해보자\n",
    "- 하이퍼파라미터를 조정해보자"
   ]
  },
  {
   "cell_type": "markdown",
   "id": "60e491c3-acfa-43e0-a81b-ec302dfd491b",
   "metadata": {},
   "source": [
    "### 머신러닝 종류\n",
    "1. 지도학습\n",
    "   - 문제와 답이 주어진 상태에서 학습\n",
    "   - 분류, 회귀\n",
    "       - 분류 : 정답 데이터의 형태가 범주형 데이터일 때\n",
    "       - 회귀 : 정답 데이터의 형태가 연속형 데이터일 때\n",
    "\n",
    "2. 비지도학습\n",
    "    - 문제에 대해서만 주어신 상태에서 학습(답을 알려주지 않는다)\n",
    "    - 데이터의 숨겨진 특성, 구조, 패턴을 파악 -> 클러스터링(군집화)\n",
    "\n",
    "3. 강화학습\n",
    "    - 완전한 답을 제공하지 않음\n",
    "    - 더 큰 보상을 얻을 수 있는 방향으로 학습을 진행\n",
    "    - ex) 알파고"
   ]
  },
  {
   "cell_type": "code",
   "execution_count": null,
   "id": "b54a1570-de4a-4698-939e-10366ae51ea2",
   "metadata": {},
   "outputs": [],
   "source": []
  }
 ],
 "metadata": {
  "kernelspec": {
   "display_name": "Python [conda env:base] *",
   "language": "python",
   "name": "conda-base-py"
  },
  "language_info": {
   "codemirror_mode": {
    "name": "ipython",
    "version": 3
   },
   "file_extension": ".py",
   "mimetype": "text/x-python",
   "name": "python",
   "nbconvert_exporter": "python",
   "pygments_lexer": "ipython3",
   "version": "3.12.7"
  }
 },
 "nbformat": 4,
 "nbformat_minor": 5
}
